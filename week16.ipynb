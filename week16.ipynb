{
  "nbformat": 4,
  "nbformat_minor": 0,
  "metadata": {
    "colab": {
      "name": "week16.ipynb",
      "version": "0.3.2",
      "provenance": [],
      "collapsed_sections": []
    },
    "kernelspec": {
      "name": "python3",
      "display_name": "Python 3"
    }
  },
  "cells": [
    {
      "metadata": {
        "id": "XeQDjjhbR2-Y",
        "colab_type": "code",
        "colab": {
          "base_uri": "https://localhost:8080/",
          "height": 68
        },
        "outputId": "42f13723-3a2e-4ee0-88c2-3789170eda44"
      },
      "cell_type": "code",
      "source": [
        "import numpy as np\n",
        "A = np.array([[3.,2.,-1.],[2.,-2.,4.],[-1.,1/2.,-1.]])\n",
        "print (A)\n"
      ],
      "execution_count": 41,
      "outputs": [
        {
          "output_type": "stream",
          "text": [
            "[[ 3.   2.  -1. ]\n",
            " [ 2.  -2.   4. ]\n",
            " [-1.   0.5 -1. ]]\n"
          ],
          "name": "stdout"
        }
      ]
    },
    {
      "metadata": {
        "id": "xERY4iYSTcBw",
        "colab_type": "code",
        "colab": {
          "base_uri": "https://localhost:8080/",
          "height": 68
        },
        "outputId": "82ab6efd-d4ee-408b-9956-ae9986155adb"
      },
      "cell_type": "code",
      "source": [
        "b =np.array([[1.],[-2.],[0.]])\n",
        "print (b)\n"
      ],
      "execution_count": 42,
      "outputs": [
        {
          "output_type": "stream",
          "text": [
            "[[ 1.]\n",
            " [-2.]\n",
            " [ 0.]]\n"
          ],
          "name": "stdout"
        }
      ]
    },
    {
      "metadata": {
        "id": "rb6KEUXITAIn",
        "colab_type": "code",
        "colab": {
          "base_uri": "https://localhost:8080/",
          "height": 68
        },
        "outputId": "272ba921-0431-4cac-e740-795ccbeddb64"
      },
      "cell_type": "code",
      "source": [
        "from numpy.linalg import inv\n",
        "Ainv = inv(A)\n",
        "print (Ainv)\n",
        "\n"
      ],
      "execution_count": 43,
      "outputs": [
        {
          "output_type": "stream",
          "text": [
            "[[ 1.48029737e-16 -5.00000000e-01 -2.00000000e+00]\n",
            " [ 6.66666667e-01  1.33333333e+00  4.66666667e+00]\n",
            " [ 3.33333333e-01  1.16666667e+00  3.33333333e+00]]\n"
          ],
          "name": "stdout"
        }
      ]
    },
    {
      "metadata": {
        "id": "BQ93uSfAT2p4",
        "colab_type": "code",
        "colab": {
          "base_uri": "https://localhost:8080/",
          "height": 68
        },
        "outputId": "2d82c988-708b-48d8-85e5-6667762a97e8"
      },
      "cell_type": "code",
      "source": [
        "X=np.dot(Ainv, b)\n",
        "print (X)\n"
      ],
      "execution_count": 44,
      "outputs": [
        {
          "output_type": "stream",
          "text": [
            "[[ 1.]\n",
            " [-2.]\n",
            " [-2.]]\n"
          ],
          "name": "stdout"
        }
      ]
    }
  ]
}