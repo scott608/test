{
 "cells": [
  {
   "cell_type": "markdown",
   "metadata": {},
   "source": [
    "$$f(x)=x^2$$ $$[0.2] n=4$$"
   ]
  },
  {
   "cell_type": "markdown",
   "metadata": {},
   "source": [
    "Let $ f:[0,2]\\rightarrow R $ be a function defined on a closed interval $ [a,b] $ of the real numbers, $R$ , and\n",
    "$$ P=\\left\\{[x_{0},x_{1}],[x_{1},x_{2}], [x_{2},x_{3}],[x_{3},x_{4}]\\right\\}$$,\n",
    "be a partition of I, where\n",
    "$$0=x_{0}<x_{1}<x_{2}<x_{3}=2$$.\n",
    "A Riemann sum $S$ of $f$ over $I$ with partition $P$ is defined as\n",
    "$$ S=\\sum _{i=0}^{4}f(x_{i}^{2})\\,\\Delta x_{i} $$\n",
    "where $\\Delta x_{i}=x_{i}-x_{i-1}  \\Delta x_{i}=x_{i}-x_{i-1}$ and an $ x_{i}^{*}\\in [x_{i-1},x_{i}]$"
   ]
  },
  {
   "cell_type": "markdown",
   "metadata": {},
   "source": [
    "left:$$ S=\\sum _{i=0}^{3}{x}^{2}\\,\\Delta x_{i} = \\Delta x\\left[f(a)+f(a+\\Delta x)+f(a+2\\,\\Delta x)+f(a+3\\,\\Delta x)\\right].$$"
   ]
  },
  {
   "cell_type": "code",
   "execution_count": 44,
   "metadata": {},
   "outputs": [
    {
     "data": {
      "text/plain": [
       "array([0. , 0.5, 1. , 1.5])"
      ]
     },
     "execution_count": 44,
     "metadata": {},
     "output_type": "execute_result"
    }
   ],
   "source": [
    "import numpy as np\n",
    "import matplotlib.pyplot as plt\n",
    "a=0\n",
    "b=2\n",
    "n=4\n",
    "deltax=(b-a)/n\n",
    "deltax\n",
    "# evenly sampled time at delta x intervals\n",
    "x = np.arange(a, b, deltax)\n",
    "#x = np.linspace(a, b, n+1)\n",
    "x\n"
   ]
  },
  {
   "cell_type": "code",
   "execution_count": 45,
   "metadata": {},
   "outputs": [
    {
     "data": {
      "text/plain": [
       "1.75"
      ]
     },
     "execution_count": 45,
     "metadata": {},
     "output_type": "execute_result"
    }
   ],
   "source": [
    "x1 = np.arange(a, b, deltax)\n",
    "\n",
    "# new value y1 from x\n",
    "y1=x1**2\n",
    "# Left Riemann sum\n",
    "deltax*np.sum(y1)"
   ]
  },
  {
   "cell_type": "code",
   "execution_count": 42,
   "metadata": {},
   "outputs": [
    {
     "data": {
      "image/png": "[encoded data removed]",
      "text/plain": [
       "<Figure size 432x288 with 1 Axes>"
      ]
     },
     "metadata": {},
     "output_type": "display_data"
    }
   ],
   "source": [
    "# red dashes, blue squares and green triangles\n",
    "import numpy as np\n",
    "import matplotlib.pyplot as plt\n",
    "x = np.linspace(-2, 2, 50)\n",
    "\n",
    "y2 = x**2\n",
    "\n",
    "\n",
    "plt.figure()\n",
    "#set x limits\n",
    "plt.xlim((0, 2))\n",
    "plt.ylim((0, 5))\n",
    "\n",
    "# set new sticks\n",
    "new_sticks = np.linspace(0, 2, 5)\n",
    "plt.xticks(new_sticks)\n",
    "# set tick labels\n",
    "plt.yticks(np.arange(0, 5, step=1))\n",
    "\n",
    "# set line styles\n",
    "l2, = plt.plot(x, y2, color='red', linewidth=1.0, linestyle='--', label='f(x)= x^2')\n",
    "\n",
    "plt.legend(loc='upper left')\n",
    "x1= [0.5, 1.0, 1.5, 2.0]\n",
    "y1=np.power(x1 ,2)\n",
    "plt.bar(x1, y1,align='edge',width=1,color='white',edgecolor='black')\n",
    "plt.show()"
   ]
  },
  {
   "cell_type": "markdown",
   "metadata": {},
   "source": [
    "right:$$ S=\\sum _{i=1}^{4}{x}^{2}\\,\\Delta x_{i} = \\Delta x\\left[f(a+\\Delta x)+f(a+2\\,\\Delta x)+f(a+3\\,\\Delta x)+f(a+4\\,\\Delta x)\\right]$$"
   ]
  },
  {
   "cell_type": "code",
   "execution_count": 35,
   "metadata": {},
   "outputs": [
    {
     "data": {
      "text/plain": [
       "array([0.5, 1. , 1.5, 2. ])"
      ]
     },
     "execution_count": 35,
     "metadata": {},
     "output_type": "execute_result"
    }
   ],
   "source": [
    "import numpy as np\n",
    "import matplotlib.pyplot as plt\n",
    "a=0\n",
    "b=2\n",
    "n=4\n",
    "deltax=(b-a)/n\n",
    "deltax\n",
    "# evenly sampled time at delta x intervals\n",
    "x = np.arange(a+deltax, b+deltax, deltax)\n",
    "#x = np.linspace(a, b, n+1)\n",
    "x\n"
   ]
  },
  {
   "cell_type": "code",
   "execution_count": 47,
   "metadata": {},
   "outputs": [
    {
     "data": {
      "text/plain": [
       "3.75"
      ]
     },
     "execution_count": 47,
     "metadata": {},
     "output_type": "execute_result"
    }
   ],
   "source": [
    "x2 = np.arange(a+deltax, b+deltax, deltax)\n",
    "\n",
    "# new value y1 from x\n",
    "y2=x2**2\n",
    "# Left Riemann sum\n",
    "deltax*np.sum(y2)"
   ]
  },
  {
   "cell_type": "code",
   "execution_count": 43,
   "metadata": {},
   "outputs": [
    {
     "data": {
      "image/png": "[encoded data removed]",
      "text/plain": [
       "<Figure size 432x288 with 1 Axes>"
      ]
     },
     "metadata": {},
     "output_type": "display_data"
    }
   ],
   "source": [
    "# red dashes, blue squares and green triangles\n",
    "import numpy as np\n",
    "import matplotlib.pyplot as plt\n",
    "x = np.linspace(-2, 2, 50)\n",
    "\n",
    "y2 = x**2\n",
    "\n",
    "\n",
    "plt.figure()\n",
    "#set x limits\n",
    "plt.xlim((0, 2))\n",
    "plt.ylim((0, 5))\n",
    "\n",
    "# set new sticks\n",
    "new_sticks = np.linspace(0, 2, 5)\n",
    "plt.xticks(new_sticks)\n",
    "# set tick labels\n",
    "plt.yticks(np.arange(0, 5, step=1))\n",
    "\n",
    "# set line styles\n",
    "l2, = plt.plot(x, y2, color='red', linewidth=1.0, linestyle='--', label='f(x)= x^2')\n",
    "\n",
    "\n",
    "\n",
    "plt.legend(loc='upper left')\n",
    "x1= [0.5, 1.0, 1.5, 2.0]\n",
    "y1=np.power(x1 ,2)\n",
    "plt.bar(x1, y1,align='center',width=1,color='white',edgecolor='black')\n",
    "plt.show()"
   ]
  },
  {
   "cell_type": "markdown",
   "metadata": {},
   "source": [
    "middle:$$ \\Delta x\\left[ f(a+ {\\tfrac {\\Delta x}{2}} )+f(a+{\\tfrac {3\\,\\Delta x}{2}})+f(a+{\\tfrac {5\\,\\Delta x}{2}})+f(a+{\\tfrac {7\\,\\Delta x}{2}}) ) \\right] $$"
   ]
  },
  {
   "cell_type": "code",
   "execution_count": 48,
   "metadata": {},
   "outputs": [
    {
     "data": {
      "text/plain": [
       "array([0. , 0.5, 1. , 1.5, 2. ])"
      ]
     },
     "execution_count": 48,
     "metadata": {},
     "output_type": "execute_result"
    }
   ],
   "source": [
    "import numpy as np\n",
    "import matplotlib.pyplot as plt\n",
    "a=0\n",
    "b=2\n",
    "n=4\n",
    "deltax=(b-a)/n\n",
    "deltax\n",
    "# evenly sampled time at delta x intervals\n",
    "x = np.arange(a, b+deltax, deltax)\n",
    "#x = np.linspace(a, b, n+1)\n",
    "x\n"
   ]
  },
  {
   "cell_type": "code",
   "execution_count": 49,
   "metadata": {},
   "outputs": [
    {
     "data": {
      "text/plain": [
       "2.625"
      ]
     },
     "execution_count": 49,
     "metadata": {},
     "output_type": "execute_result"
    }
   ],
   "source": [
    "x3 = np.arange(a+deltax/2, b, deltax)\n",
    "\n",
    "# new value y1 from x\n",
    "y3=x3**2\n",
    "# Left Riemann sum\n",
    "deltax*np.sum(y3)"
   ]
  },
  {
   "cell_type": "code",
   "execution_count": 69,
   "metadata": {},
   "outputs": [
    {
     "data": {
      "image/png": "[encoded data removed]",
      "text/plain": [
       "<Figure size 432x288 with 1 Axes>"
      ]
     },
     "metadata": {},
     "output_type": "display_data"
    }
   ],
   "source": [
    "# red dashes, blue squares and green triangles\n",
    "import numpy as np\n",
    "import matplotlib.pyplot as plt\n",
    "x = np.linspace(-2, 2, 50)\n",
    "\n",
    "y2 = x**2\n",
    "\n",
    "\n",
    "plt.figure()\n",
    "#set x limits\n",
    "plt.xlim((0, 2))\n",
    "plt.ylim((0, 5))\n",
    "\n",
    "# set new sticks\n",
    "new_sticks = np.linspace(0, 2, 5)\n",
    "plt.xticks(new_sticks)\n",
    "# set tick labels\n",
    "plt.yticks(np.arange(0, 5, step=1))\n",
    "\n",
    "# set line styles\n",
    "l2, = plt.plot(x, y2, color='red', linewidth=1.0, linestyle='--', label='f(x)= x^2')\n",
    "\n",
    "\n",
    "\n",
    "plt.legend(loc='upper left')\n",
    "x1=[0.25, 0.75, 1.25, 1.75]\n",
    "y1=np.power(x1,2)\n",
    "plt.bar(x1, y1,align='center',width=0.5, color='white', edgecolor='black')\n",
    "plt.show()"
   ]
  },
  {
   "cell_type": "code",
   "execution_count": null,
   "metadata": {},
   "outputs": [],
   "source": []
  }
 ],
 "metadata": {
  "kernelspec": {
   "display_name": "Python 3",
   "language": "python",
   "name": "python3"
  },
  "language_info": {
   "codemirror_mode": {
    "name": "ipython",
    "version": 3
   },
   "file_extension": ".py",
   "mimetype": "text/x-python",
   "name": "python",
   "nbconvert_exporter": "python",
   "pygments_lexer": "ipython3",
   "version": "3.6.5"
  }
 },
 "nbformat": 4,
 "nbformat_minor": 2
}
