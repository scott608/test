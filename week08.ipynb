{
 "cells": [
  {
   "cell_type": "code",
   "execution_count": 37,
   "metadata": {},
   "outputs": [
    {
     "name": "stdout",
     "output_type": "stream",
     "text": [
      "The local minimum occurs at 5.104408262468496e-05\n"
     ]
    }
   ],
   "source": [
    "def main_func(x):\n",
    "  return x**2+1\n",
    "\n",
    "#x**2+1\n",
    "#(x+5)**2\n",
    "\n",
    "def df_func(x):\n",
    "  deltax = 0.00000000001\n",
    "  return (main_func(x+deltax/2)-main_func(x-deltax/2))/deltax\n",
    "\n",
    "#(main_func(x+deltax)-main_func(x))/deltax\n",
    "#(main_func(x)-main_func(x-deltax))/deltax\n",
    "#(main_func(x+deltax/2)-main_func(x-deltax/2))/deltax\n",
    "\n",
    "\n",
    "#x=1\n",
    "#deltax=0.00000000001\n",
    "#print((main_func(x+deltax)-main_func(x))/deltax)\n",
    "\n",
    "cur_x = 3 # The algorithm starts at x=3\n",
    "rate = 0.01 # Learning rate\n",
    "precision = 0.000001 #This tells us when to stop the algorithm\n",
    "previous_step_size = 1 #\n",
    "max_iters = 10000 # maximum number of iterations\n",
    "iters = 0 #iteration counter\n",
    "#df = lambda x: 2*(x+5) #Gradient of our function\n",
    "df = df_func\n",
    "\n",
    "\n",
    "while previous_step_size > precision and iters < max_iters:\n",
    "    prev_x = cur_x #Store current x value in prev_x\n",
    "    cur_x = cur_x - rate * df(prev_x) #Grad descent\n",
    "    previous_step_size = abs(cur_x - prev_x) #Change in x\n",
    "    iters = iters+1 #iteration count\n",
    "   # print(\"Iteration\",iters,\"\\nX value is\",cur_x) #Print iterations\n",
    "    \n",
    "print(\"The local minimum occurs at\", cur_x)"
   ]
  },
  {
   "cell_type": "code",
   "execution_count": null,
   "metadata": {},
   "outputs": [],
   "source": []
  }
 ],
 "metadata": {
  "kernelspec": {
   "display_name": "Python 3",
   "language": "python",
   "name": "python3"
  },
  "language_info": {
   "codemirror_mode": {
    "name": "ipython",
    "version": 3
   },
   "file_extension": ".py",
   "mimetype": "text/x-python",
   "name": "python",
   "nbconvert_exporter": "python",
   "pygments_lexer": "ipython3",
   "version": "3.6.5"
  }
 },
 "nbformat": 4,
 "nbformat_minor": 2
}
