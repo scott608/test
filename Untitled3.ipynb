{
 "cells": [
  {
   "cell_type": "code",
   "execution_count": 32,
   "metadata": {},
   "outputs": [
    {
     "data": {
      "text/plain": [
       "(0.33333333333333337, 3.700743415417189e-15)"
      ]
     },
     "execution_count": 32,
     "metadata": {},
     "output_type": "execute_result"
    }
   ],
   "source": [
    "from scipy.integrate import quad\n",
    "def integrand(x, a):\n",
    "    return a*x**2\n",
    "a = 1\n",
    "\n",
    "I = quad(integrand, 0, 1, args=(a))\n",
    "I"
   ]
  },
  {
   "cell_type": "code",
   "execution_count": 29,
   "metadata": {},
   "outputs": [
    {
     "data": {
      "image/png": "[encoded data removed]",
      "text/plain": [
       "<Figure size 432x288 with 1 Axes>"
      ]
     },
     "metadata": {
      "needs_background": "light"
     },
     "output_type": "display_data"
    },
    {
     "name": "stdout",
     "output_type": "stream",
     "text": [
      "0.32835000000000003 0.004983333333333284\n"
     ]
    }
   ],
   "source": [
    "import numpy as np\n",
    "import matplotlib.pyplot as plt\n",
    "width=0.01\n",
    "x=np.arange(0,1,width) # interval from 0 to 6 with unit 0.1\n",
    "y=x**2\n",
    "plt.bar(x, y, align='center', alpha=0.2)\n",
    "plt.plot(x, y)\n",
    "plt.xlim(-0.5,2)  # set the xlim to left, right\n",
    "plt.ylim(0,1)\n",
    "plt.show()\n",
    "\n",
    "ans=np.sum(y)*width\n",
    "error=(1/3)-ans\n",
    "print(ans,error)"
   ]
  }
 ],
 "metadata": {
  "kernelspec": {
   "display_name": "Python 3",
   "language": "python",
   "name": "python3"
  },
  "language_info": {
   "codemirror_mode": {
    "name": "ipython",
    "version": 3
   },
   "file_extension": ".py",
   "mimetype": "text/x-python",
   "name": "python",
   "nbconvert_exporter": "python",
   "pygments_lexer": "ipython3",
   "version": "3.6.6"
  }
 },
 "nbformat": 4,
 "nbformat_minor": 2
}
